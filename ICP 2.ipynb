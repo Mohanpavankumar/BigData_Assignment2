{
  "cells": [
    {
      "cell_type": "markdown",
      "metadata": {},
      "source": [
        "Question: 1"
      ]
    },
    {
      "cell_type": "markdown",
      "metadata": {
        "id": "rBYWHQDJI3Rt"
      },
      "source": [
        "1.a Difference between Counter.count and self._count:\n",
        "\n",
        "      Counter.count is a class variable:\n",
        "        Shared among all instances of the Counter class.\n",
        "        When any instance modifies it using Counter.count += 1, the value changes for all instances.\n",
        "\n",
        "      self._count is an instance variable:\n",
        "        Unique to each object (a, b, etc.).\n",
        "        Modifying it via self._count += 1 only affects that specific instance."
      ]
    },
    {
      "cell_type": "markdown",
      "metadata": {},
      "source": [
        "1.b"
      ]
    },
    {
      "cell_type": "code",
      "execution_count": 7,
      "metadata": {
        "colab": {
          "base_uri": "https://localhost:8080/"
        },
        "id": "OiXkUI64JNsq",
        "outputId": "a04dee5b-b53e-4c4f-98ea-cfcb4f3102e3"
      },
      "outputs": [
        {
          "name": "stdout",
          "output_type": "stream",
          "text": [
            "Instance count: 2, Class count: 3\n",
            "Instance count: 1, Class count: 3\n"
          ]
        }
      ],
      "source": [
        "class Counter:\n",
        "    count = 0\n",
        "\n",
        "    def __init__(self):\n",
        "        self._count = 0\n",
        "\n",
        "    def increment(self):\n",
        "        self._count += 1\n",
        "        Counter.count += 1\n",
        "\n",
        "    def get_counts(self):\n",
        "        return f\"Instance count: {self._count}, Class count: {Counter.count}\"\n",
        "\n",
        "\n",
        "\n",
        "a = Counter()\n",
        "b = Counter()\n",
        "\n",
        "\n",
        "a.increment()\n",
        "a.increment()\n",
        "b.increment()\n",
        "\n",
        "\n",
        "print(a.get_counts())\n",
        "print(b.get_counts())"
      ]
    },
    {
      "cell_type": "code",
      "execution_count": 8,
      "metadata": {
        "id": "AkCImpMiK4wE"
      },
      "outputs": [],
      "source": [
        "def increment(self):\n",
        "    self._count += 1          # Increments the instance's own count\n",
        "    Counter.count += 1        # Increments the class-wide shared count"
      ]
    },
    {
      "cell_type": "markdown",
      "metadata": {
        "id": "cri1k-b8LLOD"
      },
      "source": [
        "1.c Every call to increment():\n",
        "\n",
        "Increases the specific object’s self._count by 1.\n",
        "\n",
        "Increases the shared Counter.count by 1.\n",
        "\n",
        "Updates both the instance's and the class's counters accordingly."
      ]
    },
    {
      "cell_type": "markdown",
      "metadata": {
        "id": "sd7K3g7XLr8p"
      },
      "source": [
        "Question: 2"
      ]
    },
    {
      "cell_type": "markdown",
      "metadata": {
        "id": "mXG9IccDLymU"
      },
      "source": [
        "The bug in the code is with how the function sum_all is defined. The parameter args is not written to accept variable number of arguments properly.\n",
        "\n",
        "After code correction:"
      ]
    },
    {
      "cell_type": "code",
      "execution_count": 9,
      "metadata": {
        "colab": {
          "base_uri": "https://localhost:8080/"
        },
        "id": "pCjSr7rCLzsw",
        "outputId": "1258ed27-1746-4592-c736-5efd356f0491"
      },
      "outputs": [
        {
          "name": "stdout",
          "output_type": "stream",
          "text": [
            "Sum of 1, 2, 3 is: 6\n",
            "Sum of 4, 5, 6, 7 is: 22\n"
          ]
        }
      ],
      "source": [
        "def sum_all(*args):\n",
        "    return sum(args)\n",
        "\n",
        "print(\"Sum of 1, 2, 3 is:\", sum_all(1, 2, 3))\n",
        "print(\"Sum of 4, 5, 6, 7 is:\", sum_all(4, 5, 6, 7))\n"
      ]
    },
    {
      "cell_type": "markdown",
      "metadata": {
        "id": "1DsRJrDgMGM3"
      },
      "source": [
        "Question: 3"
      ]
    },
    {
      "cell_type": "code",
      "execution_count": 10,
      "metadata": {
        "colab": {
          "base_uri": "https://localhost:8080/"
        },
        "id": "9RaDRJVbMIxO",
        "outputId": "500d1d11-7dfc-448b-97d0-a4e012bd0a8d"
      },
      "outputs": [
        {
          "name": "stdout",
          "output_type": "stream",
          "text": [
            "Bartholomew\n"
          ]
        }
      ],
      "source": [
        "def first_word(words):\n",
        "    return min(words)\n",
        "\n",
        "students = ['Mary', 'Zelda', 'Jimmy', 'Jack', 'Bartholomew', 'Gertrude']\n",
        "print(first_word(students))\n"
      ]
    },
    {
      "cell_type": "markdown",
      "metadata": {
        "id": "rhp_5vlgMbvz"
      },
      "source": [
        "Question: 4"
      ]
    },
    {
      "cell_type": "code",
      "execution_count": 11,
      "metadata": {
        "colab": {
          "base_uri": "https://localhost:8080/"
        },
        "id": "X3S4lh83MdYt",
        "outputId": "3235aeaf-de29-4f88-d77c-93386ec7d3b1"
      },
      "outputs": [
        {
          "name": "stdout",
          "output_type": "stream",
          "text": [
            "Name: Alice, Family: Smith, Salary: 60000, Department: Engineering\n",
            "Name: Bob, Family: Johnson, Salary: 75000, Department: HR\n",
            "Name: Charlie, Family: Williams, Salary: 80000, Department: Finance\n",
            "\n",
            "Total Employees: 3\n",
            "Average Salary: 71666.66666666667\n"
          ]
        }
      ],
      "source": [
        "class Employee:\n",
        "    # Class variable to count employees and store total salary\n",
        "    employee_count = 0\n",
        "    total_salary = 0\n",
        "\n",
        "    def __init__(self, name, family, salary, department):\n",
        "        self.name = name\n",
        "        self.family = family\n",
        "        self.salary = salary\n",
        "        self.department = department\n",
        "\n",
        "        Employee.employee_count += 1\n",
        "        Employee.total_salary += salary\n",
        "\n",
        "    @classmethod\n",
        "    def average_salary(cls):\n",
        "        if cls.employee_count == 0:\n",
        "            return 0\n",
        "        return cls.total_salary / cls.employee_count\n",
        "\n",
        "    def display(self):\n",
        "        print(f\"Name: {self.name}, Family: {self.family}, Salary: {self.salary}, Department: {self.department}\")\n",
        "\n",
        "\n",
        "# FulltimeEmployee inherits from Employee\n",
        "class FulltimeEmployee(Employee):\n",
        "    def __init__(self, name, family, salary, department):\n",
        "        super().__init__(name, family, salary, department)\n",
        "\n",
        "\n",
        "# Creating instances\n",
        "emp1 = Employee(\"Alice\", \"Smith\", 60000, \"Engineering\")\n",
        "emp2 = FulltimeEmployee(\"Bob\", \"Johnson\", 75000, \"HR\")\n",
        "emp3 = FulltimeEmployee(\"Charlie\", \"Williams\", 80000, \"Finance\")\n",
        "\n",
        "# Display details\n",
        "emp1.display()\n",
        "emp2.display()\n",
        "emp3.display()\n",
        "\n",
        "# Show average salary and employee count\n",
        "print(\"\\nTotal Employees:\", Employee.employee_count)\n",
        "print(\"Average Salary:\", Employee.average_salary())\n"
      ]
    }
  ],
  "metadata": {
    "colab": {
      "provenance": []
    },
    "kernelspec": {
      "display_name": "Python 3",
      "name": "python3"
    },
    "language_info": {
      "name": "python"
    }
  },
  "nbformat": 4,
  "nbformat_minor": 0
}
